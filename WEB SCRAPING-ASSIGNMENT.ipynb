{
 "cells": [
  {
   "cell_type": "code",
   "execution_count": 4,
   "id": "93909e09",
   "metadata": {
    "scrolled": true
   },
   "outputs": [
    {
     "name": "stdout",
     "output_type": "stream",
     "text": [
      "Requirement already satisfied: selenium in c:\\users\\dell\\anaconda3\\lib\\site-packages (4.6.0)\n",
      "Requirement already satisfied: certifi>=2021.10.8 in c:\\users\\dell\\anaconda3\\lib\\site-packages (from selenium) (2021.10.8)\n",
      "Requirement already satisfied: trio-websocket~=0.9 in c:\\users\\dell\\anaconda3\\lib\\site-packages (from selenium) (0.9.2)\n",
      "Requirement already satisfied: urllib3[socks]~=1.26 in c:\\users\\dell\\anaconda3\\lib\\site-packages (from selenium) (1.26.9)\n",
      "Requirement already satisfied: trio~=0.17 in c:\\users\\dell\\anaconda3\\lib\\site-packages (from selenium) (0.22.0)\n",
      "Requirement already satisfied: outcome in c:\\users\\dell\\anaconda3\\lib\\site-packages (from trio~=0.17->selenium) (1.2.0)\n",
      "Requirement already satisfied: sortedcontainers in c:\\users\\dell\\anaconda3\\lib\\site-packages (from trio~=0.17->selenium) (2.4.0)\n",
      "Requirement already satisfied: sniffio in c:\\users\\dell\\anaconda3\\lib\\site-packages (from trio~=0.17->selenium) (1.2.0)\n",
      "Requirement already satisfied: idna in c:\\users\\dell\\anaconda3\\lib\\site-packages (from trio~=0.17->selenium) (3.3)\n",
      "Requirement already satisfied: exceptiongroup>=1.0.0rc9 in c:\\users\\dell\\anaconda3\\lib\\site-packages (from trio~=0.17->selenium) (1.0.1)\n",
      "Requirement already satisfied: cffi>=1.14 in c:\\users\\dell\\anaconda3\\lib\\site-packages (from trio~=0.17->selenium) (1.15.0)\n",
      "Requirement already satisfied: attrs>=19.2.0 in c:\\users\\dell\\anaconda3\\lib\\site-packages (from trio~=0.17->selenium) (21.4.0)\n",
      "Requirement already satisfied: async-generator>=1.9 in c:\\users\\dell\\anaconda3\\lib\\site-packages (from trio~=0.17->selenium) (1.10)\n",
      "Requirement already satisfied: pycparser in c:\\users\\dell\\anaconda3\\lib\\site-packages (from cffi>=1.14->trio~=0.17->selenium) (2.21)\n",
      "Requirement already satisfied: wsproto>=0.14 in c:\\users\\dell\\anaconda3\\lib\\site-packages (from trio-websocket~=0.9->selenium) (1.2.0)\n",
      "Requirement already satisfied: PySocks!=1.5.7,<2.0,>=1.5.6 in c:\\users\\dell\\anaconda3\\lib\\site-packages (from urllib3[socks]~=1.26->selenium) (1.7.1)\n",
      "Requirement already satisfied: h11<1,>=0.9.0 in c:\\users\\dell\\anaconda3\\lib\\site-packages (from wsproto>=0.14->trio-websocket~=0.9->selenium) (0.14.0)\n"
     ]
    }
   ],
   "source": [
    "#install selenium\n",
    "!pip install selenium"
   ]
  },
  {
   "cell_type": "code",
   "execution_count": 5,
   "id": "afc2c41a",
   "metadata": {},
   "outputs": [],
   "source": [
    "#importing all required libreries of selenium\n",
    "\n",
    "import selenium\n",
    "import pandas as pd\n",
    "from selenium import webdriver"
   ]
  },
  {
   "cell_type": "code",
   "execution_count": 6,
   "id": "e6c70415",
   "metadata": {},
   "outputs": [],
   "source": [
    "#importing all required libraries of beautiful soup\n",
    "\n",
    "import requests\n",
    "from bs4 import BeautifulSoup"
   ]
  },
  {
   "cell_type": "code",
   "execution_count": 7,
   "id": "94e07ecd",
   "metadata": {},
   "outputs": [],
   "source": [
    "from selenium.webdriver.common.by import By  #importing inbiuld class By\n",
    "import warnings                        # to ignore any sort of warning\n",
    "warnings.filterwarnings ('ignore')\n",
    "import time                            # use to stop search ingine for few seconds"
   ]
  },
  {
   "cell_type": "code",
   "execution_count": 8,
   "id": "07516d5a",
   "metadata": {},
   "outputs": [],
   "source": [
    "# Connecting to the web driver\n",
    "driver = webdriver.Chrome(r'D:\\DS0522\\chromedriver.exe')"
   ]
  },
  {
   "cell_type": "code",
   "execution_count": 9,
   "id": "d4c03399",
   "metadata": {},
   "outputs": [],
   "source": [
    "#maximiza the automated chrome window\n",
    "driver.maximize_window()"
   ]
  },
  {
   "cell_type": "code",
   "execution_count": 7,
   "id": "b5ca90b3",
   "metadata": {},
   "outputs": [],
   "source": [
    "#Q1 Write a python program which searches all the product under a particular product from www.amazon.in.The product to be searched will be taken as input from user. For e.g. If user input is ‘guitar’. Then search  for guitars."
   ]
  },
  {
   "cell_type": "code",
   "execution_count": 10,
   "id": "d3f0d3e7",
   "metadata": {},
   "outputs": [],
   "source": [
    "# opening AMAZON in automated chrome window\n",
    "url = 'https://www.amazon.in'\n",
    "driver.get(url)"
   ]
  },
  {
   "cell_type": "code",
   "execution_count": 13,
   "id": "60dae67b",
   "metadata": {},
   "outputs": [],
   "source": [
    "# finding web element from search bar\n",
    "product_search = driver.find_element(By.ID, 'twotabsearchtextbox')\n",
    "product_search.send_keys('Lizol')"
   ]
  },
  {
   "cell_type": "code",
   "execution_count": 15,
   "id": "8afe8574",
   "metadata": {},
   "outputs": [],
   "source": [
    "#clicking using absolute XPATH function\n",
    "search_btn = driver.find_element(By.XPATH,'/html/body/div[1]/header/div/div[1]/div[2]/div/form/div[3]/div/span/input')\n",
    "search_btn.click()"
   ]
  },
  {
   "cell_type": "code",
   "execution_count": null,
   "id": "c5939de4",
   "metadata": {},
   "outputs": [],
   "source": [
    "#Q2. In the above question, now scrape the following details of each product listed in first 3 pages of your \n",
    "#search results and save it in a data frame and csv. In case if any product has less than 3 pages in search \n",
    "#results then scrape all the products available under that product name. Details to be scraped are: \"Brand \n",
    "#Name\", \"Name of the Product\", \"Price\", \"Return/Exchange\", \"Expected Delivery\", \"Availability\" and \n",
    "#“Product URL”. In case, if any of the details are missing for any of the product then replace it by “-\""
   ]
  },
  {
   "cell_type": "code",
   "execution_count": 18,
   "id": "19afb8a0",
   "metadata": {},
   "outputs": [],
   "source": [
    "#extract the items on first page\n",
    "url = driver.find_element(By.XPATH,\"//div[@class='sg-col-4-of-12 s-result-item s-asin sg-col-4-of-16 sg-col s-widget-spacing-small sg-col-4-of-20']\")"
   ]
  },
  {
   "cell_type": "code",
   "execution_count": 33,
   "id": "e44d0573",
   "metadata": {},
   "outputs": [],
   "source": [
    "driver.close()"
   ]
  },
  {
   "cell_type": "code",
   "execution_count": null,
   "id": "47589219",
   "metadata": {},
   "outputs": [],
   "source": [
    "# Having doubts on futher coding.... Was this assignment on exception handling or only on selenium ?"
   ]
  },
  {
   "cell_type": "code",
   "execution_count": null,
   "id": "ffedd6c5",
   "metadata": {},
   "outputs": [],
   "source": [
    "# Also could not complete assignment due to job work load"
   ]
  }
 ],
 "metadata": {
  "kernelspec": {
   "display_name": "Python 3 (ipykernel)",
   "language": "python",
   "name": "python3"
  },
  "language_info": {
   "codemirror_mode": {
    "name": "ipython",
    "version": 3
   },
   "file_extension": ".py",
   "mimetype": "text/x-python",
   "name": "python",
   "nbconvert_exporter": "python",
   "pygments_lexer": "ipython3",
   "version": "3.9.12"
  }
 },
 "nbformat": 4,
 "nbformat_minor": 5
}
