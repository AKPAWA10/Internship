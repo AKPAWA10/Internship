{
 "cells": [
  {
   "cell_type": "code",
   "execution_count": 1,
   "id": "0923d426",
   "metadata": {},
   "outputs": [
    {
     "name": "stdout",
     "output_type": "stream",
     "text": [
      "Factorial of 4 is 24\n"
     ]
    }
   ],
   "source": [
    "#Q11- Write a python program to find the factorial of a number\n",
    "def factorial(n):\n",
    "    return 1 if (n==1 or n==0) else n * factorial(n - 1);\n",
    "\n",
    "num = 4;\n",
    "print(\"Factorial of\",num,\"is\",\n",
    "factorial(num))"
   ]
  },
  {
   "cell_type": "code",
   "execution_count": 2,
   "id": "48dc2cc1",
   "metadata": {},
   "outputs": [
    {
     "name": "stdout",
     "output_type": "stream",
     "text": [
      "Enter any number : 24\n",
      "24 is NOT a prime number\n"
     ]
    }
   ],
   "source": [
    "#Q12 Write a python program to find whether a number is prime or composite\n",
    "num = int(input(\"Enter any number : \"))\n",
    "\n",
    "if num > 1:\n",
    "    for i in range(2, num):\n",
    "        if (num % i) == 0:\n",
    "            print(num, \"is NOT a prime number\")\n",
    "            break\n",
    "        else:\n",
    "            print(num, \"is a PRIME number\")\n",
    "elif num == 0 or 1:\n",
    "    print(num, \"is a neither prime NOR composite number\")\n",
    "\n",
    "else:\n",
    "    print(num, \"is NOT a prime number it is a COMPOSITE number\")"
   ]
  },
  {
   "cell_type": "code",
   "execution_count": 3,
   "id": "6db25a7f",
   "metadata": {},
   "outputs": [
    {
     "name": "stdout",
     "output_type": "stream",
     "text": [
      "No\n"
     ]
    }
   ],
   "source": [
    "#Q13 Write a python program to check whether a given string is palindrome or not\n",
    "abc = \"nashik\"\n",
    "w = \"\"\n",
    "\n",
    "for i in abc:\n",
    "    w = i + w\n",
    "\n",
    "if (abc == w):\n",
    "    print(\"Yes\")\n",
    "\n",
    "else:\n",
    "    print(\"No\")"
   ]
  },
  {
   "cell_type": "code",
   "execution_count": 4,
   "id": "8806153b",
   "metadata": {},
   "outputs": [
    {
     "name": "stdout",
     "output_type": "stream",
     "text": [
      "Enter base: 10\n",
      "Enter height: 5\n",
      "Enter angle: 90\n",
      "Hypotenuse = 11.180339887498949\n"
     ]
    }
   ],
   "source": [
    "# Q14 Write a Python program to get the third side of right-angled triangle from two given sides\n",
    "import math\n",
    "\n",
    "a = float(input(\"Enter base: \"))\n",
    "b = float(input(\"Enter height: \"))\n",
    "c = float(input(\"Enter angle: \"))\n",
    "\n",
    "d = math.sqrt(a ** 2 + b ** 2)\n",
    "print(\"Hypotenuse =\", d)"
   ]
  },
  {
   "cell_type": "code",
   "execution_count": 5,
   "id": "aa7f3608",
   "metadata": {},
   "outputs": [
    {
     "name": "stdout",
     "output_type": "stream",
     "text": [
      "{'a': 2, 'k': 1, 's': 1, 'h': 1, 'y': 1}\n"
     ]
    }
   ],
   "source": [
    "#Q15 Write a python program to print the frequency of each of the characters present in a given string\n",
    "\n",
    "def char_frequency(str1):\n",
    "    dict = {}\n",
    "    for n in str1:\n",
    "        keys = dict.keys()\n",
    "        if n in keys:\n",
    "            dict[n] += 1\n",
    "        else:\n",
    "            dict[n] = 1\n",
    "    return dict\n",
    "print(char_frequency('akshay'))"
   ]
  },
  {
   "cell_type": "code",
   "execution_count": null,
   "id": "a238d906",
   "metadata": {},
   "outputs": [],
   "source": []
  }
 ],
 "metadata": {
  "kernelspec": {
   "display_name": "Python 3 (ipykernel)",
   "language": "python",
   "name": "python3"
  },
  "language_info": {
   "codemirror_mode": {
    "name": "ipython",
    "version": 3
   },
   "file_extension": ".py",
   "mimetype": "text/x-python",
   "name": "python",
   "nbconvert_exporter": "python",
   "pygments_lexer": "ipython3",
   "version": "3.9.12"
  }
 },
 "nbformat": 4,
 "nbformat_minor": 5
}
