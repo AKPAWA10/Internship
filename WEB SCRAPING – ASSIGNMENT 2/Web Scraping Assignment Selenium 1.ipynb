{
 "cells": [
  {
   "cell_type": "code",
   "execution_count": 2,
   "id": "a579a43f",
   "metadata": {},
   "outputs": [
    {
     "name": "stdout",
     "output_type": "stream",
     "text": [
      "Requirement already satisfied: selenium in c:\\users\\dell\\anaconda3\\lib\\site-packages (4.6.0)\n",
      "Requirement already satisfied: trio-websocket~=0.9 in c:\\users\\dell\\anaconda3\\lib\\site-packages (from selenium) (0.9.2)\n",
      "Requirement already satisfied: trio~=0.17 in c:\\users\\dell\\anaconda3\\lib\\site-packages (from selenium) (0.22.0)\n",
      "Requirement already satisfied: urllib3[socks]~=1.26 in c:\\users\\dell\\anaconda3\\lib\\site-packages (from selenium) (1.26.9)\n",
      "Requirement already satisfied: certifi>=2021.10.8 in c:\\users\\dell\\anaconda3\\lib\\site-packages (from selenium) (2021.10.8)\n",
      "Requirement already satisfied: sniffio in c:\\users\\dell\\anaconda3\\lib\\site-packages (from trio~=0.17->selenium) (1.2.0)\n",
      "Requirement already satisfied: async-generator>=1.9 in c:\\users\\dell\\anaconda3\\lib\\site-packages (from trio~=0.17->selenium) (1.10)\n",
      "Requirement already satisfied: outcome in c:\\users\\dell\\anaconda3\\lib\\site-packages (from trio~=0.17->selenium) (1.2.0)\n",
      "Requirement already satisfied: cffi>=1.14 in c:\\users\\dell\\anaconda3\\lib\\site-packages (from trio~=0.17->selenium) (1.15.0)\n",
      "Requirement already satisfied: exceptiongroup>=1.0.0rc9 in c:\\users\\dell\\anaconda3\\lib\\site-packages (from trio~=0.17->selenium) (1.0.1)\n",
      "Requirement already satisfied: sortedcontainers in c:\\users\\dell\\anaconda3\\lib\\site-packages (from trio~=0.17->selenium) (2.4.0)\n",
      "Requirement already satisfied: idna in c:\\users\\dell\\anaconda3\\lib\\site-packages (from trio~=0.17->selenium) (3.3)\n",
      "Requirement already satisfied: attrs>=19.2.0 in c:\\users\\dell\\anaconda3\\lib\\site-packages (from trio~=0.17->selenium) (21.4.0)\n",
      "Requirement already satisfied: pycparser in c:\\users\\dell\\anaconda3\\lib\\site-packages (from cffi>=1.14->trio~=0.17->selenium) (2.21)\n",
      "Requirement already satisfied: wsproto>=0.14 in c:\\users\\dell\\anaconda3\\lib\\site-packages (from trio-websocket~=0.9->selenium) (1.2.0)\n",
      "Requirement already satisfied: PySocks!=1.5.7,<2.0,>=1.5.6 in c:\\users\\dell\\anaconda3\\lib\\site-packages (from urllib3[socks]~=1.26->selenium) (1.7.1)\n",
      "Requirement already satisfied: h11<1,>=0.9.0 in c:\\users\\dell\\anaconda3\\lib\\site-packages (from wsproto>=0.14->trio-websocket~=0.9->selenium) (0.14.0)\n"
     ]
    }
   ],
   "source": [
    "#First install selenium library\n",
    "!pip install selenium"
   ]
  },
  {
   "cell_type": "code",
   "execution_count": 2,
   "id": "077f94a2",
   "metadata": {},
   "outputs": [],
   "source": [
    "#Q1: Write a python program to scrape data for “Data Analyst” Job position in “Bangalore” location. You have to scrape the job-title, job-location, company_name, experience_required. You have to scrape first 10 jobs data."
   ]
  },
  {
   "cell_type": "code",
   "execution_count": 3,
   "id": "191aa0cd",
   "metadata": {},
   "outputs": [],
   "source": [
    "#webdriver has been downloaded from web browser as follows:\n",
    "# 1) checking the version of browser from \"about chrome\" tab in chrome settings\n",
    "# 2) dowloading the required version from link https://chromedriver.chromium.org/downloads\n",
    "# 3) dwonloaded the required version of my chrome"
   ]
  },
  {
   "cell_type": "code",
   "execution_count": 3,
   "id": "a18cee42",
   "metadata": {},
   "outputs": [],
   "source": [
    "# Now importing all the libraries\n",
    "import selenium                        # library that is used to work with selenium\n",
    "from selenium import webdriver         # importing webdriver module from selenium to open automated chrome window\n",
    "import pandas as pd                    # to create dataframe\n",
    "from selenium.webdriver.common.by import By  #importing inbiuld class By\n",
    "import warnings                        # to ignore any sort of warning\n",
    "warnings.filterwarnings ('ignore')\n",
    "import time                            # use to stop search ingine for few seconds"
   ]
  },
  {
   "cell_type": "code",
   "execution_count": 4,
   "id": "3b63cf6a",
   "metadata": {},
   "outputs": [],
   "source": [
    "# Connecting to the web driver\n",
    "driver = webdriver.Chrome(r'D:\\DS0522\\chromedriver.exe')"
   ]
  },
  {
   "cell_type": "code",
   "execution_count": 5,
   "id": "c4315c72",
   "metadata": {},
   "outputs": [],
   "source": [
    "#maximiza the automated chrome window\n",
    "driver.maximize_window()"
   ]
  },
  {
   "cell_type": "code",
   "execution_count": 6,
   "id": "4fdd9429",
   "metadata": {},
   "outputs": [],
   "source": [
    "# opening naukri.com in automated chrome window\n",
    "url = 'https://www.naukri.com'\n",
    "driver.get(url)"
   ]
  },
  {
   "cell_type": "code",
   "execution_count": 7,
   "id": "e5a99152",
   "metadata": {},
   "outputs": [],
   "source": [
    "# finding web element from job search bar\n",
    "search_job = driver.find_element(By.CLASS_NAME, 'suggestor-input')\n",
    "search_job.send_keys('Data Analyst')"
   ]
  },
  {
   "cell_type": "code",
   "execution_count": 8,
   "id": "9c37126f",
   "metadata": {},
   "outputs": [],
   "source": [
    "# finding web element for job search location bar by absolute xpath method\n",
    "search_locn = driver.find_element(By.XPATH,'/html/body/div[1]/div[6]/div/div/div[5]/div/div/div/input')\n",
    "search_locn.send_keys ('Bangalore')"
   ]
  },
  {
   "cell_type": "code",
   "execution_count": 9,
   "id": "4d27c07c",
   "metadata": {},
   "outputs": [],
   "source": [
    "#clicking using absolute XPATH function\n",
    "search_btn = driver.find_element(By.XPATH,'/html/body/div[1]/div[6]/div/div/div[6]')\n",
    "search_btn.click()"
   ]
  },
  {
   "cell_type": "code",
   "execution_count": 10,
   "id": "6bf152c8",
   "metadata": {},
   "outputs": [
    {
     "data": {
      "text/plain": [
       "10"
      ]
     },
     "execution_count": 10,
     "metadata": {},
     "output_type": "execute_result"
    }
   ],
   "source": [
    "#extracting all web elements having job titles\n",
    "job_tags = []\n",
    "title_tags = driver.find_elements(By.XPATH, \"//a[@class='title fw500 ellipsis']\")\n",
    "for i in title_tags [0:10]:\n",
    "    job_tags.append(i.text)\n",
    "len(job_tags)"
   ]
  },
  {
   "cell_type": "code",
   "execution_count": 11,
   "id": "ca7bdf3a",
   "metadata": {},
   "outputs": [
    {
     "data": {
      "text/plain": [
       "10"
      ]
     },
     "execution_count": 11,
     "metadata": {},
     "output_type": "execute_result"
    }
   ],
   "source": [
    "#extracting location of jobs\n",
    "job_locn = []\n",
    "site_locn = driver.find_elements(By.XPATH, \"//span[@class='ellipsis fleft fs12 lh16 locWdth']\")\n",
    "for i in site_locn [0:10]:\n",
    "    job_locn.append(i.text)\n",
    "len(job_locn)"
   ]
  },
  {
   "cell_type": "code",
   "execution_count": 12,
   "id": "d972aa6d",
   "metadata": {},
   "outputs": [
    {
     "data": {
      "text/plain": [
       "10"
      ]
     },
     "execution_count": 12,
     "metadata": {},
     "output_type": "execute_result"
    }
   ],
   "source": [
    "#extracting the company names\n",
    "company = []\n",
    "company_name = driver.find_elements (By.XPATH, '//a[@class=\"subTitle ellipsis fleft\"]')\n",
    "for i in company_name [0:10]:\n",
    "    company.append(i.text)\n",
    "len (company)"
   ]
  },
  {
   "cell_type": "code",
   "execution_count": 13,
   "id": "1cc760ba",
   "metadata": {},
   "outputs": [
    {
     "data": {
      "text/plain": [
       "10"
      ]
     },
     "execution_count": 13,
     "metadata": {},
     "output_type": "execute_result"
    }
   ],
   "source": [
    "#extracting required experience for job title\n",
    "experience = []\n",
    "required_experience = driver.find_elements (By.XPATH, '//span[@class=\"ellipsis fleft fs12 lh16 expwdth\"]')\n",
    "for i in required_experience [0:10]:\n",
    "    experience.append(i.text)\n",
    "len (experience)"
   ]
  },
  {
   "cell_type": "code",
   "execution_count": 14,
   "id": "535ee1b4",
   "metadata": {},
   "outputs": [
    {
     "data": {
      "text/html": [
       "<div>\n",
       "<style scoped>\n",
       "    .dataframe tbody tr th:only-of-type {\n",
       "        vertical-align: middle;\n",
       "    }\n",
       "\n",
       "    .dataframe tbody tr th {\n",
       "        vertical-align: top;\n",
       "    }\n",
       "\n",
       "    .dataframe thead th {\n",
       "        text-align: right;\n",
       "    }\n",
       "</style>\n",
       "<table border=\"1\" class=\"dataframe\">\n",
       "  <thead>\n",
       "    <tr style=\"text-align: right;\">\n",
       "      <th></th>\n",
       "      <th>Job Title</th>\n",
       "      <th>Job Location</th>\n",
       "      <th>Company Name</th>\n",
       "      <th>Experience Required</th>\n",
       "    </tr>\n",
       "  </thead>\n",
       "  <tbody>\n",
       "    <tr>\n",
       "      <th>0</th>\n",
       "      <td>Data Analyst</td>\n",
       "      <td>Bangalore/Bengaluru</td>\n",
       "      <td>Cargill</td>\n",
       "      <td>3-5 Yrs</td>\n",
       "    </tr>\n",
       "    <tr>\n",
       "      <th>1</th>\n",
       "      <td>Data Analyst - FinTech</td>\n",
       "      <td>Bangalore/Bengaluru</td>\n",
       "      <td>Upshoot HR Solutions Pvt. Ltd.</td>\n",
       "      <td>1-4 Yrs</td>\n",
       "    </tr>\n",
       "    <tr>\n",
       "      <th>2</th>\n",
       "      <td>data analyst / data analytics - US MNC (analyt...</td>\n",
       "      <td>Temp. WFH - Bangalore/Bengaluru, Gurgaon/Gurugram</td>\n",
       "      <td>Aspyra HR Services</td>\n",
       "      <td>2-7 Yrs</td>\n",
       "    </tr>\n",
       "    <tr>\n",
       "      <th>3</th>\n",
       "      <td>Lead Data Analyst</td>\n",
       "      <td>Bangalore/Bengaluru</td>\n",
       "      <td>Mobile Premier League (MPL)</td>\n",
       "      <td>4-7 Yrs</td>\n",
       "    </tr>\n",
       "    <tr>\n",
       "      <th>4</th>\n",
       "      <td>Sr. Data Analyst (SAS Data Management)</td>\n",
       "      <td>Bangalore/Bengaluru, New Delhi</td>\n",
       "      <td>NMS Consultant</td>\n",
       "      <td>5-10 Yrs</td>\n",
       "    </tr>\n",
       "    <tr>\n",
       "      <th>5</th>\n",
       "      <td>Data Analyst</td>\n",
       "      <td>Bangalore/Bengaluru</td>\n",
       "      <td>Phonepe</td>\n",
       "      <td>1-3 Yrs</td>\n",
       "    </tr>\n",
       "    <tr>\n",
       "      <th>6</th>\n",
       "      <td>Data Analyst - Consumer Analytics</td>\n",
       "      <td>Bangalore/Bengaluru</td>\n",
       "      <td>Eli Lilly And Company</td>\n",
       "      <td>2-4 Yrs</td>\n",
       "    </tr>\n",
       "    <tr>\n",
       "      <th>7</th>\n",
       "      <td>Assistant Manager - Data Analyst</td>\n",
       "      <td>Bangalore/Bengaluru</td>\n",
       "      <td>Huquo Consulting Pvt. Ltd</td>\n",
       "      <td>3-6 Yrs</td>\n",
       "    </tr>\n",
       "    <tr>\n",
       "      <th>8</th>\n",
       "      <td>Manager - Data Analyst - KPO</td>\n",
       "      <td>Bangalore/Bengaluru</td>\n",
       "      <td>Huquo Consulting Pvt. Ltd</td>\n",
       "      <td>5-9 Yrs</td>\n",
       "    </tr>\n",
       "    <tr>\n",
       "      <th>9</th>\n",
       "      <td>Manager - Data Analyst - KPO</td>\n",
       "      <td>Bangalore/Bengaluru, Gurgaon/Gurugram</td>\n",
       "      <td>Huquo Consulting Pvt. Ltd</td>\n",
       "      <td>3-8 Yrs</td>\n",
       "    </tr>\n",
       "  </tbody>\n",
       "</table>\n",
       "</div>"
      ],
      "text/plain": [
       "                                           Job Title  \\\n",
       "0                                       Data Analyst   \n",
       "1                             Data Analyst - FinTech   \n",
       "2  data analyst / data analytics - US MNC (analyt...   \n",
       "3                                  Lead Data Analyst   \n",
       "4             Sr. Data Analyst (SAS Data Management)   \n",
       "5                                       Data Analyst   \n",
       "6                  Data Analyst - Consumer Analytics   \n",
       "7                   Assistant Manager - Data Analyst   \n",
       "8                       Manager - Data Analyst - KPO   \n",
       "9                       Manager - Data Analyst - KPO   \n",
       "\n",
       "                                        Job Location  \\\n",
       "0                                Bangalore/Bengaluru   \n",
       "1                                Bangalore/Bengaluru   \n",
       "2  Temp. WFH - Bangalore/Bengaluru, Gurgaon/Gurugram   \n",
       "3                                Bangalore/Bengaluru   \n",
       "4                     Bangalore/Bengaluru, New Delhi   \n",
       "5                                Bangalore/Bengaluru   \n",
       "6                                Bangalore/Bengaluru   \n",
       "7                                Bangalore/Bengaluru   \n",
       "8                                Bangalore/Bengaluru   \n",
       "9              Bangalore/Bengaluru, Gurgaon/Gurugram   \n",
       "\n",
       "                     Company Name Experience Required  \n",
       "0                         Cargill             3-5 Yrs  \n",
       "1  Upshoot HR Solutions Pvt. Ltd.             1-4 Yrs  \n",
       "2              Aspyra HR Services             2-7 Yrs  \n",
       "3     Mobile Premier League (MPL)             4-7 Yrs  \n",
       "4                  NMS Consultant            5-10 Yrs  \n",
       "5                         Phonepe             1-3 Yrs  \n",
       "6           Eli Lilly And Company             2-4 Yrs  \n",
       "7       Huquo Consulting Pvt. Ltd             3-6 Yrs  \n",
       "8       Huquo Consulting Pvt. Ltd             5-9 Yrs  \n",
       "9       Huquo Consulting Pvt. Ltd             3-8 Yrs  "
      ]
     },
     "execution_count": 14,
     "metadata": {},
     "output_type": "execute_result"
    }
   ],
   "source": [
    "#Data_Analyst_DataFrame\n",
    "Data_Analyst_DataFrame = pd.DataFrame ()\n",
    "Data_Analyst_DataFrame ['Job Title'] = job_tags\n",
    "Data_Analyst_DataFrame ['Job Location'] = job_locn\n",
    "Data_Analyst_DataFrame ['Company Name'] = company\n",
    "Data_Analyst_DataFrame ['Experience Required'] = experience\n",
    "Data_Analyst_DataFrame"
   ]
  },
  {
   "cell_type": "code",
   "execution_count": 15,
   "id": "30cc4559",
   "metadata": {},
   "outputs": [],
   "source": [
    "driver.close()"
   ]
  },
  {
   "cell_type": "code",
   "execution_count": 29,
   "id": "bb58b029",
   "metadata": {},
   "outputs": [],
   "source": [
    "#Q2: Write a python program to scrape data for “Data Scientist” Job position in “Bangalore” location. You have to scrape the job-title, job-location, company_name. You have to scrape first 10 jobs data."
   ]
  },
  {
   "cell_type": "code",
   "execution_count": 17,
   "id": "d829dacd",
   "metadata": {},
   "outputs": [],
   "source": [
    "# Connecting to the web driver\n",
    "driver = webdriver.Chrome(r'D:\\DS0522\\chromedriver.exe')"
   ]
  },
  {
   "cell_type": "code",
   "execution_count": 18,
   "id": "4488ef71",
   "metadata": {},
   "outputs": [],
   "source": [
    "#maximiza the automated chrome window\n",
    "driver.maximize_window()"
   ]
  },
  {
   "cell_type": "code",
   "execution_count": 19,
   "id": "5fb48c7d",
   "metadata": {},
   "outputs": [],
   "source": [
    "# opening naukri.com in automated chrome window\n",
    "url = 'https://www.naukri.com'\n",
    "driver.get(url)"
   ]
  },
  {
   "cell_type": "code",
   "execution_count": 20,
   "id": "c60eb7f1",
   "metadata": {},
   "outputs": [],
   "source": [
    "# finding web element from job search bar\n",
    "search_job = driver.find_element(By.CLASS_NAME, 'suggestor-input')\n",
    "search_job.send_keys('Data Scientist')"
   ]
  },
  {
   "cell_type": "code",
   "execution_count": 21,
   "id": "e31be782",
   "metadata": {},
   "outputs": [],
   "source": [
    "# finding web element for job search location bar by absolute xpath method\n",
    "search_locn = driver.find_element(By.XPATH,'/html/body/div[1]/div[6]/div/div/div[5]/div/div/div/input')\n",
    "search_locn.send_keys ('Bangalore')"
   ]
  },
  {
   "cell_type": "code",
   "execution_count": 22,
   "id": "0b600721",
   "metadata": {},
   "outputs": [],
   "source": [
    "#clicking using absolute XPATH function\n",
    "search_btn = driver.find_element(By.XPATH,'/html/body/div[1]/div[6]/div/div/div[6]')\n",
    "search_btn.click()"
   ]
  },
  {
   "cell_type": "code",
   "execution_count": 23,
   "id": "11ec8f4a",
   "metadata": {},
   "outputs": [
    {
     "data": {
      "text/plain": [
       "10"
      ]
     },
     "execution_count": 23,
     "metadata": {},
     "output_type": "execute_result"
    }
   ],
   "source": [
    "#extracting all web elements having job titles\n",
    "ds_tags = []\n",
    "dstitle_tags = driver.find_elements(By.XPATH, \"//a[@class='title fw500 ellipsis']\")\n",
    "for i in dstitle_tags [0:10]:\n",
    "    ds_tags.append(i.text)\n",
    "len(ds_tags)"
   ]
  },
  {
   "cell_type": "code",
   "execution_count": 24,
   "id": "c7b1579f",
   "metadata": {},
   "outputs": [
    {
     "data": {
      "text/plain": [
       "10"
      ]
     },
     "execution_count": 24,
     "metadata": {},
     "output_type": "execute_result"
    }
   ],
   "source": [
    "#extracting location of jobs\n",
    "dsjob_locn = []\n",
    "dssite_locn = driver.find_elements(By.XPATH, \"//span[@class='ellipsis fleft fs12 lh16 locWdth']\")\n",
    "for i in dssite_locn [0:10]:\n",
    "    dsjob_locn.append(i.text)\n",
    "len(dsjob_locn)"
   ]
  },
  {
   "cell_type": "code",
   "execution_count": 25,
   "id": "6ef1b1ac",
   "metadata": {},
   "outputs": [
    {
     "data": {
      "text/plain": [
       "10"
      ]
     },
     "execution_count": 25,
     "metadata": {},
     "output_type": "execute_result"
    }
   ],
   "source": [
    "#extracting the company names\n",
    "dscompany = []\n",
    "dscompany_name = driver.find_elements (By.XPATH, '//a[@class=\"subTitle ellipsis fleft\"]')\n",
    "for i in dscompany_name [0:10]:\n",
    "    dscompany.append(i.text)\n",
    "len (dscompany)"
   ]
  },
  {
   "cell_type": "code",
   "execution_count": 26,
   "id": "c48c45a3",
   "metadata": {},
   "outputs": [
    {
     "data": {
      "text/html": [
       "<div>\n",
       "<style scoped>\n",
       "    .dataframe tbody tr th:only-of-type {\n",
       "        vertical-align: middle;\n",
       "    }\n",
       "\n",
       "    .dataframe tbody tr th {\n",
       "        vertical-align: top;\n",
       "    }\n",
       "\n",
       "    .dataframe thead th {\n",
       "        text-align: right;\n",
       "    }\n",
       "</style>\n",
       "<table border=\"1\" class=\"dataframe\">\n",
       "  <thead>\n",
       "    <tr style=\"text-align: right;\">\n",
       "      <th></th>\n",
       "      <th>Job Title</th>\n",
       "      <th>Job Location</th>\n",
       "      <th>Company Name</th>\n",
       "    </tr>\n",
       "  </thead>\n",
       "  <tbody>\n",
       "    <tr>\n",
       "      <th>0</th>\n",
       "      <td>Analystics &amp; Modeling Specialist</td>\n",
       "      <td>Bangalore/Bengaluru, Kolkata, Mumbai, Hyderaba...</td>\n",
       "      <td>Accenture</td>\n",
       "    </tr>\n",
       "    <tr>\n",
       "      <th>1</th>\n",
       "      <td>Assistant Manager - Data Science</td>\n",
       "      <td>Hybrid - Bangalore/Bengaluru, Mumbai, Pune</td>\n",
       "      <td>Citiustech</td>\n",
       "    </tr>\n",
       "    <tr>\n",
       "      <th>2</th>\n",
       "      <td>Senior Data Scientist</td>\n",
       "      <td>Hybrid - Bangalore/Bengaluru, Pune, Chennai</td>\n",
       "      <td>Wipro</td>\n",
       "    </tr>\n",
       "    <tr>\n",
       "      <th>3</th>\n",
       "      <td>Program Manager, Analytics</td>\n",
       "      <td>Bangalore/Bengaluru</td>\n",
       "      <td>Uber</td>\n",
       "    </tr>\n",
       "    <tr>\n",
       "      <th>4</th>\n",
       "      <td>Data Scientist - Looking For Immediate Joiners</td>\n",
       "      <td>Hybrid - Bangalore/Bengaluru, Hyderabad/Secund...</td>\n",
       "      <td>Wipro</td>\n",
       "    </tr>\n",
       "    <tr>\n",
       "      <th>5</th>\n",
       "      <td>Data Scientist</td>\n",
       "      <td>Bangalore/Bengaluru, Hyderabad/Secunderabad, P...</td>\n",
       "      <td>Altair</td>\n",
       "    </tr>\n",
       "    <tr>\n",
       "      <th>6</th>\n",
       "      <td>Senior Data Scientist</td>\n",
       "      <td>Bangalore/Bengaluru, Mumbai, New Delhi, Chennai</td>\n",
       "      <td>Boston Consulting Group</td>\n",
       "    </tr>\n",
       "    <tr>\n",
       "      <th>7</th>\n",
       "      <td>Data Scientist - II</td>\n",
       "      <td>Bangalore/Bengaluru, India, Mumbai (All Areas)</td>\n",
       "      <td>Bizongo</td>\n",
       "    </tr>\n",
       "    <tr>\n",
       "      <th>8</th>\n",
       "      <td>Lead ML Scientist</td>\n",
       "      <td>Bangalore/Bengaluru, Mumbai</td>\n",
       "      <td>Fractal Analytics</td>\n",
       "    </tr>\n",
       "    <tr>\n",
       "      <th>9</th>\n",
       "      <td>Senior Data Scientist</td>\n",
       "      <td>Bangalore/Bengaluru, Mumbai</td>\n",
       "      <td>Baker Hughes</td>\n",
       "    </tr>\n",
       "  </tbody>\n",
       "</table>\n",
       "</div>"
      ],
      "text/plain": [
       "                                        Job Title  \\\n",
       "0                Analystics & Modeling Specialist   \n",
       "1                Assistant Manager - Data Science   \n",
       "2                           Senior Data Scientist   \n",
       "3                      Program Manager, Analytics   \n",
       "4  Data Scientist - Looking For Immediate Joiners   \n",
       "5                                  Data Scientist   \n",
       "6                           Senior Data Scientist   \n",
       "7                             Data Scientist - II   \n",
       "8                               Lead ML Scientist   \n",
       "9                           Senior Data Scientist   \n",
       "\n",
       "                                        Job Location             Company Name  \n",
       "0  Bangalore/Bengaluru, Kolkata, Mumbai, Hyderaba...                Accenture  \n",
       "1         Hybrid - Bangalore/Bengaluru, Mumbai, Pune               Citiustech  \n",
       "2        Hybrid - Bangalore/Bengaluru, Pune, Chennai                    Wipro  \n",
       "3                                Bangalore/Bengaluru                     Uber  \n",
       "4  Hybrid - Bangalore/Bengaluru, Hyderabad/Secund...                    Wipro  \n",
       "5  Bangalore/Bengaluru, Hyderabad/Secunderabad, P...                   Altair  \n",
       "6    Bangalore/Bengaluru, Mumbai, New Delhi, Chennai  Boston Consulting Group  \n",
       "7     Bangalore/Bengaluru, India, Mumbai (All Areas)                  Bizongo  \n",
       "8                        Bangalore/Bengaluru, Mumbai        Fractal Analytics  \n",
       "9                        Bangalore/Bengaluru, Mumbai             Baker Hughes  "
      ]
     },
     "execution_count": 26,
     "metadata": {},
     "output_type": "execute_result"
    }
   ],
   "source": [
    "#Data_Scientist_DataFrame\n",
    "Data_Scientist_DataFrame = pd.DataFrame ()\n",
    "Data_Scientist_DataFrame ['Job Title'] = ds_tags\n",
    "Data_Scientist_DataFrame ['Job Location'] = dsjob_locn\n",
    "Data_Scientist_DataFrame ['Company Name'] = dscompany\n",
    "Data_Scientist_DataFrame"
   ]
  },
  {
   "cell_type": "code",
   "execution_count": 27,
   "id": "96f55206",
   "metadata": {},
   "outputs": [],
   "source": [
    "driver.close()"
   ]
  },
  {
   "cell_type": "code",
   "execution_count": null,
   "id": "64935c07",
   "metadata": {},
   "outputs": [],
   "source": [
    "#Q3: Question to scrape data using the filters available on the webpage.\n",
    "#The location filter to be used is “Delhi/NCR”. The salary filter to be used is “3-6” lakhs from naukri.com website"
   ]
  },
  {
   "cell_type": "code",
   "execution_count": 41,
   "id": "d3bb79f9",
   "metadata": {},
   "outputs": [],
   "source": [
    "# Connecting to the web driver\n",
    "driver = webdriver.Chrome(r'D:\\DS0522\\chromedriver.exe')"
   ]
  },
  {
   "cell_type": "code",
   "execution_count": 42,
   "id": "7970322e",
   "metadata": {},
   "outputs": [],
   "source": [
    "#maximiza the automated chrome window\n",
    "driver.maximize_window()"
   ]
  },
  {
   "cell_type": "code",
   "execution_count": 43,
   "id": "b9aaaf86",
   "metadata": {},
   "outputs": [],
   "source": [
    "# opening naukri.com in automated chrome window\n",
    "url = 'https://www.naukri.com'\n",
    "driver.get(url)"
   ]
  },
  {
   "cell_type": "code",
   "execution_count": 44,
   "id": "441b0cba",
   "metadata": {},
   "outputs": [],
   "source": [
    "# finding web element from job search bar\n",
    "search_job = driver.find_element(By.CLASS_NAME, 'suggestor-input')\n",
    "search_job.send_keys('Data Scientist')\n",
    "#clicking using absolute XPATH function\n",
    "search_btn = driver.find_element(By.XPATH,'/html/body/div[1]/div[6]/div/div/div[6]')\n",
    "search_btn.click()"
   ]
  },
  {
   "cell_type": "code",
   "execution_count": 45,
   "id": "ccce4035",
   "metadata": {},
   "outputs": [],
   "source": [
    "# clicking the job location filter\n",
    "search_locn = driver.find_element(By.XPATH,'/html/body/div[1]/div[4]/div/section[1]/div[2]/div[5]/div[2]/div[2]/label/p/span[1]')\n",
    "search_locn.click()"
   ]
  },
  {
   "cell_type": "code",
   "execution_count": 48,
   "id": "7b2cf92e",
   "metadata": {},
   "outputs": [],
   "source": [
    "# clicking the required salary filter\n",
    "salary = driver.find_element(By.XPATH,'/html/body/div[1]/div[4]/div/section[1]/div[2]/div[6]/div[2]/div[2]/label/p/span[1]')\n",
    "salary.click()"
   ]
  },
  {
   "cell_type": "code",
   "execution_count": 49,
   "id": "e763631d",
   "metadata": {},
   "outputs": [
    {
     "data": {
      "text/plain": [
       "10"
      ]
     },
     "execution_count": 49,
     "metadata": {},
     "output_type": "execute_result"
    }
   ],
   "source": [
    "#extracting first 10 job titles\n",
    "ds_delhi = []\n",
    "dsdelhi_tags = driver.find_elements(By.XPATH, \"//a[@class='title fw500 ellipsis']\")\n",
    "for i in dsdelhi_tags [0:10]:\n",
    "    ds_delhi.append(i.text)\n",
    "len(ds_delhi)"
   ]
  },
  {
   "cell_type": "code",
   "execution_count": 50,
   "id": "ca73ed6a",
   "metadata": {},
   "outputs": [
    {
     "data": {
      "text/plain": [
       "10"
      ]
     },
     "execution_count": 50,
     "metadata": {},
     "output_type": "execute_result"
    }
   ],
   "source": [
    "#extracting delhi job locations\n",
    "dsdelhijob_locn = []\n",
    "dsdelhisite_locn = driver.find_elements(By.XPATH, \"//span[@class='ellipsis fleft fs12 lh16 locWdth']\")\n",
    "for i in dsdelhisite_locn [0:10]:\n",
    "    dsdelhijob_locn.append(i.text)\n",
    "len(dsdelhijob_locn)"
   ]
  },
  {
   "cell_type": "code",
   "execution_count": 51,
   "id": "276c025e",
   "metadata": {},
   "outputs": [
    {
     "data": {
      "text/plain": [
       "10"
      ]
     },
     "execution_count": 51,
     "metadata": {},
     "output_type": "execute_result"
    }
   ],
   "source": [
    "#extracting the company names\n",
    "dsdelhicompany = []\n",
    "dsdelhicompany_name = driver.find_elements (By.XPATH, '//a[@class=\"subTitle ellipsis fleft\"]')\n",
    "for i in dsdelhicompany_name [0:10]:\n",
    "    dsdelhicompany.append(i.text)\n",
    "len (dsdelhicompany)"
   ]
  },
  {
   "cell_type": "code",
   "execution_count": 52,
   "id": "1b38d7db",
   "metadata": {},
   "outputs": [
    {
     "data": {
      "text/plain": [
       "10"
      ]
     },
     "execution_count": 52,
     "metadata": {},
     "output_type": "execute_result"
    }
   ],
   "source": [
    "#extracting required experience for delhi job title\n",
    "delhi_experience = []\n",
    "required_delhiexperience = driver.find_elements (By.XPATH, '//span[@class=\"ellipsis fleft fs12 lh16 expwdth\"]')\n",
    "for i in required_delhiexperience [0:10]:\n",
    "    delhi_experience.append(i.text)\n",
    "len (delhi_experience)"
   ]
  },
  {
   "cell_type": "code",
   "execution_count": 53,
   "id": "dcff949f",
   "metadata": {},
   "outputs": [
    {
     "data": {
      "text/html": [
       "<div>\n",
       "<style scoped>\n",
       "    .dataframe tbody tr th:only-of-type {\n",
       "        vertical-align: middle;\n",
       "    }\n",
       "\n",
       "    .dataframe tbody tr th {\n",
       "        vertical-align: top;\n",
       "    }\n",
       "\n",
       "    .dataframe thead th {\n",
       "        text-align: right;\n",
       "    }\n",
       "</style>\n",
       "<table border=\"1\" class=\"dataframe\">\n",
       "  <thead>\n",
       "    <tr style=\"text-align: right;\">\n",
       "      <th></th>\n",
       "      <th>Job Title</th>\n",
       "      <th>Job Location</th>\n",
       "      <th>Company Name</th>\n",
       "      <th>Experience</th>\n",
       "    </tr>\n",
       "  </thead>\n",
       "  <tbody>\n",
       "    <tr>\n",
       "      <th>0</th>\n",
       "      <td>Data Scientist</td>\n",
       "      <td>Noida, Hyderabad/Secunderabad, Chennai, Bangal...</td>\n",
       "      <td>HCLTech</td>\n",
       "      <td>4-9 Yrs</td>\n",
       "    </tr>\n",
       "    <tr>\n",
       "      <th>1</th>\n",
       "      <td>DigitalBCG GAMMA Data Scientist</td>\n",
       "      <td>New Delhi, Bangalore/Bengaluru</td>\n",
       "      <td>Boston Consulting Group</td>\n",
       "      <td>2-5 Yrs</td>\n",
       "    </tr>\n",
       "    <tr>\n",
       "      <th>2</th>\n",
       "      <td>Urgent hiring For Data Scientist (PHD Must Have)</td>\n",
       "      <td>Temp. WFH - Noida, Pune</td>\n",
       "      <td>NGI Ventures</td>\n",
       "      <td>0-4 Yrs</td>\n",
       "    </tr>\n",
       "    <tr>\n",
       "      <th>3</th>\n",
       "      <td>Manager - Data Science - Banking&amp;Financial Ser...</td>\n",
       "      <td>Delhi / NCR, Bangalore/Bengaluru</td>\n",
       "      <td>Black Turtle</td>\n",
       "      <td>4-8 Yrs</td>\n",
       "    </tr>\n",
       "    <tr>\n",
       "      <th>4</th>\n",
       "      <td>Data Scientist / Sr. Data Scientist</td>\n",
       "      <td>Temp. WFH - Noida</td>\n",
       "      <td>Wegarner Solutions</td>\n",
       "      <td>3-8 Yrs</td>\n",
       "    </tr>\n",
       "    <tr>\n",
       "      <th>5</th>\n",
       "      <td>Data Scientist</td>\n",
       "      <td>Dehradun, Hyderabad/Secunderabad, Gurgaon/Guru...</td>\n",
       "      <td>torcai digital media</td>\n",
       "      <td>2-7 Yrs</td>\n",
       "    </tr>\n",
       "    <tr>\n",
       "      <th>6</th>\n",
       "      <td>Data Scientist</td>\n",
       "      <td>Noida</td>\n",
       "      <td>Meon Technologies</td>\n",
       "      <td>2-5 Yrs</td>\n",
       "    </tr>\n",
       "    <tr>\n",
       "      <th>7</th>\n",
       "      <td>Data Scientist</td>\n",
       "      <td>Noida</td>\n",
       "      <td>Alliance Recruitment Agency</td>\n",
       "      <td>3-4 Yrs</td>\n",
       "    </tr>\n",
       "    <tr>\n",
       "      <th>8</th>\n",
       "      <td>Data scientist- Python</td>\n",
       "      <td>Gurgaon/Gurugram</td>\n",
       "      <td>TeamPlus Staffing Solution Pvt Ltd</td>\n",
       "      <td>3-6 Yrs</td>\n",
       "    </tr>\n",
       "    <tr>\n",
       "      <th>9</th>\n",
       "      <td>Data Scientist</td>\n",
       "      <td>New Delhi</td>\n",
       "      <td>Razor Group GmbH</td>\n",
       "      <td>2-3 Yrs</td>\n",
       "    </tr>\n",
       "  </tbody>\n",
       "</table>\n",
       "</div>"
      ],
      "text/plain": [
       "                                           Job Title  \\\n",
       "0                                     Data Scientist   \n",
       "1                    DigitalBCG GAMMA Data Scientist   \n",
       "2   Urgent hiring For Data Scientist (PHD Must Have)   \n",
       "3  Manager - Data Science - Banking&Financial Ser...   \n",
       "4                Data Scientist / Sr. Data Scientist   \n",
       "5                                     Data Scientist   \n",
       "6                                     Data Scientist   \n",
       "7                                     Data Scientist   \n",
       "8                             Data scientist- Python   \n",
       "9                                     Data Scientist   \n",
       "\n",
       "                                        Job Location  \\\n",
       "0  Noida, Hyderabad/Secunderabad, Chennai, Bangal...   \n",
       "1                     New Delhi, Bangalore/Bengaluru   \n",
       "2                            Temp. WFH - Noida, Pune   \n",
       "3                   Delhi / NCR, Bangalore/Bengaluru   \n",
       "4                                  Temp. WFH - Noida   \n",
       "5  Dehradun, Hyderabad/Secunderabad, Gurgaon/Guru...   \n",
       "6                                              Noida   \n",
       "7                                              Noida   \n",
       "8                                   Gurgaon/Gurugram   \n",
       "9                                          New Delhi   \n",
       "\n",
       "                         Company Name Experience  \n",
       "0                             HCLTech    4-9 Yrs  \n",
       "1             Boston Consulting Group    2-5 Yrs  \n",
       "2                        NGI Ventures    0-4 Yrs  \n",
       "3                        Black Turtle    4-8 Yrs  \n",
       "4                  Wegarner Solutions    3-8 Yrs  \n",
       "5                torcai digital media    2-7 Yrs  \n",
       "6                   Meon Technologies    2-5 Yrs  \n",
       "7         Alliance Recruitment Agency    3-4 Yrs  \n",
       "8  TeamPlus Staffing Solution Pvt Ltd    3-6 Yrs  \n",
       "9                    Razor Group GmbH    2-3 Yrs  "
      ]
     },
     "execution_count": 53,
     "metadata": {},
     "output_type": "execute_result"
    }
   ],
   "source": [
    "#Delhi_Data_Scientist_DataFrame\n",
    "Delhi_Data_Scientist_DataFrame = pd.DataFrame ()\n",
    "Delhi_Data_Scientist_DataFrame ['Job Title'] = ds_delhi\n",
    "Delhi_Data_Scientist_DataFrame ['Job Location'] = dsdelhijob_locn\n",
    "Delhi_Data_Scientist_DataFrame ['Company Name'] = dsdelhicompany\n",
    "Delhi_Data_Scientist_DataFrame ['Experience'] = delhi_experience\n",
    "Delhi_Data_Scientist_DataFrame"
   ]
  },
  {
   "cell_type": "code",
   "execution_count": null,
   "id": "b32146df",
   "metadata": {},
   "outputs": [],
   "source": [
    "# Q4: To Scrape data of first 100 sunglasses listings on flipkart.com."
   ]
  },
  {
   "cell_type": "code",
   "execution_count": 54,
   "id": "31cb5347",
   "metadata": {},
   "outputs": [],
   "source": [
    "driver.close()"
   ]
  },
  {
   "cell_type": "code",
   "execution_count": 107,
   "id": "382ee043",
   "metadata": {},
   "outputs": [],
   "source": [
    "# Connecting to the web driver\n",
    "driver = webdriver.Chrome(r'D:\\DS0522\\chromedriver.exe')"
   ]
  },
  {
   "cell_type": "code",
   "execution_count": 108,
   "id": "38288add",
   "metadata": {},
   "outputs": [],
   "source": [
    "#maximiza the automated chrome window\n",
    "driver.maximize_window()"
   ]
  },
  {
   "cell_type": "code",
   "execution_count": 110,
   "id": "d5486621",
   "metadata": {},
   "outputs": [],
   "source": [
    "# opening flipkart.com in automated chrome window\n",
    "url = 'https://www.flipkart.com'\n",
    "driver.get(url)"
   ]
  },
  {
   "cell_type": "code",
   "execution_count": 111,
   "id": "870ca701",
   "metadata": {},
   "outputs": [],
   "source": [
    "# finding web element from search bar\n",
    "search_sunglasses = driver.find_element(By.CLASS_NAME, '_3704LK')\n",
    "search_sunglasses.send_keys('sunglasses')"
   ]
  },
  {
   "cell_type": "code",
   "execution_count": 112,
   "id": "be7f0c7b",
   "metadata": {},
   "outputs": [],
   "source": [
    "#clicking using class name\n",
    "search_btn = driver.find_element(By.CLASS_NAME,'L0Z3Pu')\n",
    "search_btn.click()"
   ]
  },
  {
   "cell_type": "code",
   "execution_count": 113,
   "id": "c621166e",
   "metadata": {},
   "outputs": [],
   "source": [
    "# to scrape 100 sunglasses\n",
    "sunglasses_company = []\n",
    "start = 0\n",
    "end = 3\n",
    "for page in range (start, end):\n",
    "    company_names = driver.find_elements (By.XPATH,'//div[@class=\"_2WkVRV\"]')\n",
    "    for i in company_names:\n",
    "        sunglasses_company.append(i.text)\n",
    "    next_button = driver.find_element(By.XPATH,'//a[@class=\"ge-49M\"]')\n",
    "    next_button.click"
   ]
  },
  {
   "cell_type": "code",
   "execution_count": 114,
   "id": "975ea29f",
   "metadata": {},
   "outputs": [
    {
     "data": {
      "text/plain": [
       "100"
      ]
     },
     "execution_count": 114,
     "metadata": {},
     "output_type": "execute_result"
    }
   ],
   "source": [
    "All_Sunglasses = sunglasses_company[0:100]\n",
    "len (All_Sunglasses)"
   ]
  },
  {
   "cell_type": "code",
   "execution_count": 115,
   "id": "4d0c73ab",
   "metadata": {},
   "outputs": [],
   "source": [
    "# to scrape 100 sunglasses product description\n",
    "sunglasses_description = []\n",
    "start = 0\n",
    "end = 3\n",
    "for page in range (start, end):\n",
    "    glasses_description = driver.find_elements (By.XPATH,'//a[@class=\"IRpwTa\"]')\n",
    "    for i in glasses_description:\n",
    "        sunglasses_description.append(i.text)\n",
    "    next_button = driver.find_element(By.XPATH,'//a[@class=\"ge-49M\"]')\n",
    "    next_button.click"
   ]
  },
  {
   "cell_type": "code",
   "execution_count": 116,
   "id": "94366096",
   "metadata": {},
   "outputs": [
    {
     "data": {
      "text/plain": [
       "100"
      ]
     },
     "execution_count": 116,
     "metadata": {},
     "output_type": "execute_result"
    }
   ],
   "source": [
    "#Clubbing all product descriptionAll_len(sunglasses_description)\n",
    "Glass_Description = sunglasses_description [0:100]\n",
    "len (Glass_Description)"
   ]
  },
  {
   "cell_type": "code",
   "execution_count": 117,
   "id": "e45af6d4",
   "metadata": {},
   "outputs": [],
   "source": [
    "# to scrape 100 sunglasses product description\n",
    "sunglasses_price = []\n",
    "start = 0\n",
    "end = 3\n",
    "for page in range (start, end):\n",
    "    glasses_price = driver.find_elements (By.XPATH,'//div[@class=\"_25b18c\"]')\n",
    "    for i in glasses_price:\n",
    "        sunglasses_price.append(i.text)\n",
    "    next_button = driver.find_element(By.XPATH,'//a[@class=\"ge-49M\"]')\n",
    "    next_button.click"
   ]
  },
  {
   "cell_type": "code",
   "execution_count": 118,
   "id": "8bcb9b4c",
   "metadata": {},
   "outputs": [
    {
     "data": {
      "text/plain": [
       "100"
      ]
     },
     "execution_count": 118,
     "metadata": {},
     "output_type": "execute_result"
    }
   ],
   "source": [
    "#Clubbing all product prices\n",
    "glass_price = sunglasses_price [0:100]\n",
    "len (glass_price)"
   ]
  },
  {
   "cell_type": "code",
   "execution_count": 120,
   "id": "59e37c37",
   "metadata": {},
   "outputs": [
    {
     "data": {
      "text/html": [
       "<div>\n",
       "<style scoped>\n",
       "    .dataframe tbody tr th:only-of-type {\n",
       "        vertical-align: middle;\n",
       "    }\n",
       "\n",
       "    .dataframe tbody tr th {\n",
       "        vertical-align: top;\n",
       "    }\n",
       "\n",
       "    .dataframe thead th {\n",
       "        text-align: right;\n",
       "    }\n",
       "</style>\n",
       "<table border=\"1\" class=\"dataframe\">\n",
       "  <thead>\n",
       "    <tr style=\"text-align: right;\">\n",
       "      <th></th>\n",
       "      <th>Brand</th>\n",
       "      <th>Product Description</th>\n",
       "      <th>Price</th>\n",
       "    </tr>\n",
       "  </thead>\n",
       "  <tbody>\n",
       "    <tr>\n",
       "      <th>0</th>\n",
       "      <td>Singco India</td>\n",
       "      <td>Gradient, Toughened Glass Lens, UV Protection ...</td>\n",
       "      <td>₹575₹2,99980% off</td>\n",
       "    </tr>\n",
       "    <tr>\n",
       "      <th>1</th>\n",
       "      <td>DEXENT COLLECTION</td>\n",
       "      <td>UV Protection Oval Sunglasses (Free Size)</td>\n",
       "      <td>₹227₹44949% off</td>\n",
       "    </tr>\n",
       "    <tr>\n",
       "      <th>2</th>\n",
       "      <td>Fastrack</td>\n",
       "      <td>UV Protection Wayfarer Sunglasses (Free Size)</td>\n",
       "      <td>₹649₹99935% off</td>\n",
       "    </tr>\n",
       "    <tr>\n",
       "      <th>3</th>\n",
       "      <td>Fastrack</td>\n",
       "      <td>UV Protection Rectangular Sunglasses (Free Size)</td>\n",
       "      <td>₹519₹79935% off</td>\n",
       "    </tr>\n",
       "    <tr>\n",
       "      <th>4</th>\n",
       "      <td>PIRASO</td>\n",
       "      <td>UV Protection Rectangular Sunglasses (52)</td>\n",
       "      <td>₹209₹1,59986% off</td>\n",
       "    </tr>\n",
       "    <tr>\n",
       "      <th>...</th>\n",
       "      <td>...</td>\n",
       "      <td>...</td>\n",
       "      <td>...</td>\n",
       "    </tr>\n",
       "    <tr>\n",
       "      <th>95</th>\n",
       "      <td>Elligator</td>\n",
       "      <td>UV Protection Cat-eye, Retro Square, Oval, Rou...</td>\n",
       "      <td>₹176₹99982% off</td>\n",
       "    </tr>\n",
       "    <tr>\n",
       "      <th>96</th>\n",
       "      <td>ROZZETTA CRAFT</td>\n",
       "      <td>UV Protection, Gradient Butterfly Sunglasses (62)</td>\n",
       "      <td>₹339₹1,99983% off</td>\n",
       "    </tr>\n",
       "    <tr>\n",
       "      <th>97</th>\n",
       "      <td>ROZZETTA CRAFT</td>\n",
       "      <td>UV Protection, Gradient Retro Square Sunglasse...</td>\n",
       "      <td>₹331₹1,99983% off</td>\n",
       "    </tr>\n",
       "    <tr>\n",
       "      <th>98</th>\n",
       "      <td>PIRASO</td>\n",
       "      <td>UV Protection Aviator Sunglasses (54)</td>\n",
       "      <td>₹251₹1,59984% off</td>\n",
       "    </tr>\n",
       "    <tr>\n",
       "      <th>99</th>\n",
       "      <td>SUNBEE</td>\n",
       "      <td>UV Protection, Polarized Wayfarer Sunglasses (...</td>\n",
       "      <td>₹283₹1,29978% off</td>\n",
       "    </tr>\n",
       "  </tbody>\n",
       "</table>\n",
       "<p>100 rows × 3 columns</p>\n",
       "</div>"
      ],
      "text/plain": [
       "                Brand                                Product Description  \\\n",
       "0        Singco India  Gradient, Toughened Glass Lens, UV Protection ...   \n",
       "1   DEXENT COLLECTION          UV Protection Oval Sunglasses (Free Size)   \n",
       "2            Fastrack      UV Protection Wayfarer Sunglasses (Free Size)   \n",
       "3            Fastrack   UV Protection Rectangular Sunglasses (Free Size)   \n",
       "4              PIRASO          UV Protection Rectangular Sunglasses (52)   \n",
       "..                ...                                                ...   \n",
       "95          Elligator  UV Protection Cat-eye, Retro Square, Oval, Rou...   \n",
       "96     ROZZETTA CRAFT  UV Protection, Gradient Butterfly Sunglasses (62)   \n",
       "97     ROZZETTA CRAFT  UV Protection, Gradient Retro Square Sunglasse...   \n",
       "98             PIRASO              UV Protection Aviator Sunglasses (54)   \n",
       "99             SUNBEE  UV Protection, Polarized Wayfarer Sunglasses (...   \n",
       "\n",
       "                Price  \n",
       "0   ₹575₹2,99980% off  \n",
       "1     ₹227₹44949% off  \n",
       "2     ₹649₹99935% off  \n",
       "3     ₹519₹79935% off  \n",
       "4   ₹209₹1,59986% off  \n",
       "..                ...  \n",
       "95    ₹176₹99982% off  \n",
       "96  ₹339₹1,99983% off  \n",
       "97  ₹331₹1,99983% off  \n",
       "98  ₹251₹1,59984% off  \n",
       "99  ₹283₹1,29978% off  \n",
       "\n",
       "[100 rows x 3 columns]"
      ]
     },
     "execution_count": 120,
     "metadata": {},
     "output_type": "execute_result"
    }
   ],
   "source": [
    "#Sunglassess_DataFrame\n",
    "Sunglassess_DataFrame = pd.DataFrame ()\n",
    "Sunglassess_DataFrame ['Brand'] = All_Sunglasses\n",
    "Sunglassess_DataFrame ['Product Description'] = Glass_Description\n",
    "Sunglassess_DataFrame ['Price'] = glass_price\n",
    "Sunglassess_DataFrame"
   ]
  },
  {
   "cell_type": "code",
   "execution_count": 121,
   "id": "38f3ee0c",
   "metadata": {},
   "outputs": [],
   "source": [
    "driver.close()"
   ]
  },
  {
   "cell_type": "code",
   "execution_count": null,
   "id": "fb474dae",
   "metadata": {},
   "outputs": [],
   "source": [
    "#Q5: To Scrape 100 reviews data from flipkart.com for iphone11 phone."
   ]
  },
  {
   "cell_type": "code",
   "execution_count": 16,
   "id": "4c6a0e2b",
   "metadata": {},
   "outputs": [],
   "source": [
    "# Connecting to the web driver\n",
    "driver = webdriver.Chrome(r'D:\\DS0522\\chromedriver.exe')"
   ]
  },
  {
   "cell_type": "code",
   "execution_count": 17,
   "id": "cd8b19d7",
   "metadata": {},
   "outputs": [],
   "source": [
    "#maximiza the automated chrome window\n",
    "driver.maximize_window()"
   ]
  },
  {
   "cell_type": "code",
   "execution_count": 27,
   "id": "0261f18e",
   "metadata": {},
   "outputs": [],
   "source": [
    "# opening flipkart.com in automated chrome window\n",
    "url = 'https://www.flipkart.com/apple-iphone-11-black-64-gb/p/itm4e5041ba101fd?pid=MOBFWQ6BXGJCEYNY&lid=LSTMOBFWQ6BXGJCEYNYZXSHRJ&marketplace=FLIPKART&q=apple+iphone+11+black+64+gb&store=tyy%2F4io&srno=s_1_1&otracker=search&otracker1=search&fm=organic&iid=0c14030d-4d56-4d77-9327-e9cf65e3a034.MOBFWQ6BXGJCEYNY.SEARCH&ppt=hp&ppn=homepage&ssid=570nuz64ds0000001667756719988&qH=5936d526b810bc88'\n",
    "driver.get(url)"
   ]
  },
  {
   "cell_type": "code",
   "execution_count": 30,
   "id": "1447085f",
   "metadata": {},
   "outputs": [
    {
     "data": {
      "text/plain": [
       "10"
      ]
     },
     "execution_count": 30,
     "metadata": {},
     "output_type": "execute_result"
    }
   ],
   "source": [
    "#extracting phone ratings\n",
    "phone_rating = []\n",
    "apple_phoner = driver.find_elements(By.XPATH,'//div[@class=\"_3LWZlK _1BLPMq\"]')\n",
    "for i in apple_phoner:\n",
    "    phone_rating.append(i.text)\n",
    "len(phone_rating)"
   ]
  },
  {
   "cell_type": "code",
   "execution_count": 31,
   "id": "f90fb5cb",
   "metadata": {},
   "outputs": [
    {
     "data": {
      "text/plain": [
       "10"
      ]
     },
     "execution_count": 31,
     "metadata": {},
     "output_type": "execute_result"
    }
   ],
   "source": [
    "# extracting phone reviews\n",
    "phone_reviews = []\n",
    "apple_phonereview = driver.find_elements(By.XPATH,'//p[@class=\"_2-N8zT\"]')\n",
    "for i in phone_reviews:\n",
    "    apple_phonereview.append(i.text)\n",
    "len(apple_phonereview)"
   ]
  },
  {
   "cell_type": "code",
   "execution_count": 32,
   "id": "9b5aa8fb",
   "metadata": {},
   "outputs": [
    {
     "data": {
      "text/plain": [
       "10"
      ]
     },
     "execution_count": 32,
     "metadata": {},
     "output_type": "execute_result"
    }
   ],
   "source": [
    "# extracting phone detail review comments\n",
    "phone_reviewscomment = []\n",
    "apple_phonereviewcomment = driver.find_elements(By.XPATH,'//div[@class=\"t-ZTKy\"]')\n",
    "for i in apple_phonereviewcomment:\n",
    "    phone_reviewscomment.append(i.text)\n",
    "len(phone_reviewscomment)"
   ]
  },
  {
   "cell_type": "code",
   "execution_count": 34,
   "id": "45af5c85",
   "metadata": {},
   "outputs": [
    {
     "data": {
      "text/html": [
       "<div>\n",
       "<style scoped>\n",
       "    .dataframe tbody tr th:only-of-type {\n",
       "        vertical-align: middle;\n",
       "    }\n",
       "\n",
       "    .dataframe tbody tr th {\n",
       "        vertical-align: top;\n",
       "    }\n",
       "\n",
       "    .dataframe thead th {\n",
       "        text-align: right;\n",
       "    }\n",
       "</style>\n",
       "<table border=\"1\" class=\"dataframe\">\n",
       "  <thead>\n",
       "    <tr style=\"text-align: right;\">\n",
       "      <th></th>\n",
       "      <th>Rating</th>\n",
       "      <th>Review summary</th>\n",
       "      <th>Full review</th>\n",
       "    </tr>\n",
       "  </thead>\n",
       "  <tbody>\n",
       "    <tr>\n",
       "      <th>0</th>\n",
       "      <td>5</td>\n",
       "      <td>&lt;selenium.webdriver.remote.webelement.WebEleme...</td>\n",
       "      <td>Really satisfied with the Product I received.....</td>\n",
       "    </tr>\n",
       "    <tr>\n",
       "      <th>1</th>\n",
       "      <td>4</td>\n",
       "      <td>&lt;selenium.webdriver.remote.webelement.WebEleme...</td>\n",
       "      <td>I'm Really happy with the product\\nDelivery wa...</td>\n",
       "    </tr>\n",
       "    <tr>\n",
       "      <th>2</th>\n",
       "      <td>5</td>\n",
       "      <td>&lt;selenium.webdriver.remote.webelement.WebEleme...</td>\n",
       "      <td>Amazing phone with great cameras and better ba...</td>\n",
       "    </tr>\n",
       "    <tr>\n",
       "      <th>3</th>\n",
       "      <td></td>\n",
       "      <td>&lt;selenium.webdriver.remote.webelement.WebEleme...</td>\n",
       "      <td></td>\n",
       "    </tr>\n",
       "    <tr>\n",
       "      <th>4</th>\n",
       "      <td></td>\n",
       "      <td>&lt;selenium.webdriver.remote.webelement.WebEleme...</td>\n",
       "      <td></td>\n",
       "    </tr>\n",
       "    <tr>\n",
       "      <th>5</th>\n",
       "      <td></td>\n",
       "      <td>&lt;selenium.webdriver.remote.webelement.WebEleme...</td>\n",
       "      <td></td>\n",
       "    </tr>\n",
       "    <tr>\n",
       "      <th>6</th>\n",
       "      <td></td>\n",
       "      <td>&lt;selenium.webdriver.remote.webelement.WebEleme...</td>\n",
       "      <td></td>\n",
       "    </tr>\n",
       "    <tr>\n",
       "      <th>7</th>\n",
       "      <td></td>\n",
       "      <td>&lt;selenium.webdriver.remote.webelement.WebEleme...</td>\n",
       "      <td></td>\n",
       "    </tr>\n",
       "    <tr>\n",
       "      <th>8</th>\n",
       "      <td></td>\n",
       "      <td>&lt;selenium.webdriver.remote.webelement.WebEleme...</td>\n",
       "      <td></td>\n",
       "    </tr>\n",
       "    <tr>\n",
       "      <th>9</th>\n",
       "      <td></td>\n",
       "      <td>&lt;selenium.webdriver.remote.webelement.WebEleme...</td>\n",
       "      <td></td>\n",
       "    </tr>\n",
       "  </tbody>\n",
       "</table>\n",
       "</div>"
      ],
      "text/plain": [
       "  Rating                                     Review summary  \\\n",
       "0      5  <selenium.webdriver.remote.webelement.WebEleme...   \n",
       "1      4  <selenium.webdriver.remote.webelement.WebEleme...   \n",
       "2      5  <selenium.webdriver.remote.webelement.WebEleme...   \n",
       "3         <selenium.webdriver.remote.webelement.WebEleme...   \n",
       "4         <selenium.webdriver.remote.webelement.WebEleme...   \n",
       "5         <selenium.webdriver.remote.webelement.WebEleme...   \n",
       "6         <selenium.webdriver.remote.webelement.WebEleme...   \n",
       "7         <selenium.webdriver.remote.webelement.WebEleme...   \n",
       "8         <selenium.webdriver.remote.webelement.WebEleme...   \n",
       "9         <selenium.webdriver.remote.webelement.WebEleme...   \n",
       "\n",
       "                                         Full review  \n",
       "0  Really satisfied with the Product I received.....  \n",
       "1  I'm Really happy with the product\\nDelivery wa...  \n",
       "2  Amazing phone with great cameras and better ba...  \n",
       "3                                                     \n",
       "4                                                     \n",
       "5                                                     \n",
       "6                                                     \n",
       "7                                                     \n",
       "8                                                     \n",
       "9                                                     "
      ]
     },
     "execution_count": 34,
     "metadata": {},
     "output_type": "execute_result"
    }
   ],
   "source": [
    "#Phone_review_DataFrame\n",
    "Phone_review_DataFrame = pd.DataFrame ()\n",
    "Phone_review_DataFrame ['Rating'] = phone_rating\n",
    "Phone_review_DataFrame ['Review summary'] = apple_phonereview\n",
    "Phone_review_DataFrame ['Full review'] = phone_reviewscomment\n",
    "Phone_review_DataFrame"
   ]
  },
  {
   "cell_type": "code",
   "execution_count": null,
   "id": "94b0ab88",
   "metadata": {},
   "outputs": [],
   "source": []
  }
 ],
 "metadata": {
  "kernelspec": {
   "display_name": "Python 3 (ipykernel)",
   "language": "python",
   "name": "python3"
  },
  "language_info": {
   "codemirror_mode": {
    "name": "ipython",
    "version": 3
   },
   "file_extension": ".py",
   "mimetype": "text/x-python",
   "name": "python",
   "nbconvert_exporter": "python",
   "pygments_lexer": "ipython3",
   "version": "3.9.12"
  }
 },
 "nbformat": 4,
 "nbformat_minor": 5
}
